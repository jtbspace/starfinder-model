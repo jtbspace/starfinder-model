{
 "cells": [
  {
   "cell_type": "markdown",
   "metadata": {
    "colab_type": "text",
    "id": "3DR-eO17geWu"
   },
   "source": [
    "# Convolutional Neural Network"
   ]
  },
  {
   "cell_type": "markdown",
   "metadata": {
    "colab_type": "text",
    "id": "EMefrVPCg-60"
   },
   "source": [
    "### Importing the libraries"
   ]
  },
  {
   "cell_type": "code",
   "execution_count": 1,
   "metadata": {},
   "outputs": [],
   "source": [
    "# Set a seed value\n",
    "seed_value= 123\n",
    "# 1. Set `PYTHONHASHSEED` environment variable at a fixed value\n",
    "import os\n",
    "os.environ['PYTHONHASHSEED']=str(seed_value)\n",
    "# 2. Set `python` built-in pseudo-random generator at a fixed value\n",
    "import random\n",
    "random.seed(seed_value)\n",
    "# 3. Set `numpy` pseudo-random generator at a fixed value\n",
    "import numpy as np\n",
    "np.random.seed(seed_value)\n",
    "# 4. Set `tensorflow` pseudo-random generator at a fixed value\n",
    "import tensorflow as tf\n",
    "tf.random.set_seed(123) \n",
    "\n",
    "# # 5. For layers that introduce randomness like dropout, make sure to set seed values \n",
    "# #6 Configure a new global `tensorflow` session\n"
   ]
  },
  {
   "cell_type": "code",
   "execution_count": 2,
   "metadata": {
    "colab": {},
    "colab_type": "code",
    "id": "sCV30xyVhFbE"
   },
   "outputs": [
    {
     "name": "stderr",
     "output_type": "stream",
     "text": [
      "Using TensorFlow backend.\n"
     ]
    }
   ],
   "source": [
    "from __future__ import print_function\n",
    "from keras.preprocessing.image import ImageDataGenerator\n",
    "from sklearn.preprocessing import LabelEncoder\n",
    "import matplotlib.pyplot as plt\n",
    "#simplified interface for building models \n",
    "import keras\n",
    "#our handwritten character labeled dataset\n",
    "#because our models are simple\n",
    "from keras.models import Sequential\n",
    "#dense means fully connected layers, dropout is a technique to improve convergence, flatten to reshape our matrices for feeding\n",
    "#into respective layers\n",
    "# from keras.layers import Dense, Dropout, Flatten\n",
    "#for convolution (images) and pooling is a technique to help choose the most relevant features in an image\n",
    "# from keras.layers import Conv2D, MaxPooling2\n",
    "# from keras import layers\n",
    "# from keras.models import Model"
   ]
  },
  {
   "cell_type": "code",
   "execution_count": 3,
   "metadata": {
    "colab": {},
    "colab_type": "code",
    "id": "FIleuCAjoFD8"
   },
   "outputs": [],
   "source": [
    "#14 difference characters\n",
    "num_classes = 14\n",
    "\n"
   ]
  },
  {
   "cell_type": "markdown",
   "metadata": {
    "colab_type": "text",
    "id": "oxQxCBWyoGPE"
   },
   "source": [
    "## Part 1 - Data Preprocessing"
   ]
  },
  {
   "cell_type": "markdown",
   "metadata": {
    "colab_type": "text",
    "id": "MvE-heJNo3GG"
   },
   "source": [
    "### Preprocessing the Training set"
   ]
  },
  {
   "cell_type": "code",
   "execution_count": 4,
   "metadata": {
    "colab": {},
    "colab_type": "code",
    "id": "0koUcJMJpEBD"
   },
   "outputs": [
    {
     "name": "stdout",
     "output_type": "stream",
     "text": [
      "Found 7560 images belonging to 14 classes.\n"
     ]
    }
   ],
   "source": [
    "train_datagen = ImageDataGenerator(rescale = 1./255,\n",
    "                                   shear_range = 0.2,\n",
    "                                   zoom_range = 0.2,\n",
    "                                   horizontal_flip = True)\n",
    "training_set = train_datagen.flow_from_directory('/floyd/input/cnndata/Train',\n",
    "                                                 target_size = (280, 280),\n",
    "                                                 batch_size = 32,\n",
    "                                                 class_mode='categorical')"
   ]
  },
  {
   "cell_type": "markdown",
   "metadata": {
    "colab_type": "text",
    "id": "mrCMmGw9pHys"
   },
   "source": [
    "### Preprocessing the Test set"
   ]
  },
  {
   "cell_type": "code",
   "execution_count": 5,
   "metadata": {
    "colab": {},
    "colab_type": "code",
    "id": "SH4WzfOhpKc3"
   },
   "outputs": [
    {
     "name": "stdout",
     "output_type": "stream",
     "text": [
      "Found 2548 images belonging to 14 classes.\n"
     ]
    }
   ],
   "source": [
    "test_datagen = ImageDataGenerator(rescale = 1./255)\n",
    "test_set = test_datagen.flow_from_directory('/floyd/input/cnndata/Test',\n",
    "                                            target_size = (280, 280),\n",
    "                                            batch_size = 32,\n",
    "                                            class_mode='categorical')"
   ]
  },
  {
   "cell_type": "markdown",
   "metadata": {
    "colab_type": "text",
    "id": "af8O4l90gk7B"
   },
   "source": [
    "## Part 2 - Building the CNN"
   ]
  },
  {
   "cell_type": "code",
   "execution_count": 6,
   "metadata": {},
   "outputs": [],
   "source": [
    "cnn = Sequential([\n",
    "    keras.layers.Conv2D(filters=96, kernel_size=(11,11), strides=(4,4), activation='relu', input_shape=(280,280,3)),\n",
    "    keras.layers.BatchNormalization(),\n",
    "    keras.layers.MaxPool2D(pool_size=(3,3), strides=(2,2)),\n",
    "    keras.layers.Conv2D(filters=256, kernel_size=(5,5), strides=(1,1), activation='relu', padding=\"same\"),\n",
    "    keras.layers.BatchNormalization(),\n",
    "    keras.layers.MaxPool2D(pool_size=(3,3), strides=(2,2)),\n",
    "    keras.layers.Conv2D(filters=384, kernel_size=(3,3), strides=(1,1), activation='relu', padding=\"same\"),\n",
    "    keras.layers.BatchNormalization(),\n",
    "    keras.layers.Conv2D(filters=384, kernel_size=(1,1), strides=(1,1), activation='relu', padding=\"same\"),\n",
    "    keras.layers.BatchNormalization(),\n",
    "    keras.layers.Conv2D(filters=256, kernel_size=(1,1), strides=(1,1), activation='relu', padding=\"same\"),\n",
    "    keras.layers.BatchNormalization(),\n",
    "    keras.layers.MaxPool2D(pool_size=(3,3), strides=(2,2)),\n",
    "    keras.layers.Flatten(),\n",
    "    keras.layers.Dense(4096, activation='relu'),\n",
    "    keras.layers.Dropout(0.5,seed=seed_value),\n",
    "    keras.layers.Dense(4096, activation='relu'),\n",
    "    keras.layers.Dropout(0.5,seed=seed_value),\n",
    "    keras.layers.Dense(14, activation='softmax')\n",
    "])"
   ]
  },
  {
   "cell_type": "markdown",
   "metadata": {
    "colab_type": "text",
    "id": "ces1gXY2lmoX"
   },
   "source": [
    "### Building the CNN"
   ]
  },
  {
   "cell_type": "code",
   "execution_count": 7,
   "metadata": {
    "colab": {},
    "colab_type": "code",
    "id": "SAUt4UMPlhLS"
   },
   "outputs": [],
   "source": [
    "# cnn = Sequential()\n",
    "# cnn.add(Conv2D(32, kernel_size=3,\n",
    "#                  activation='relu',\n",
    "#                  input_shape=[280,280,3]))\n",
    "# cnn.add(MaxPooling2D(pool_size= 2, strides=2))\n",
    "# cnn.add(Conv2D(filters= 280, kernel_size = 3,activation= 'relu'))\n",
    "# cnn.add(MaxPooling2D(pool_size= 2, strides=2))\n",
    "# cnn.add(Conv2D(filters= 280, kernel_size = 3,activation= 'relu'))\n",
    "# cnn.add(MaxPooling2D(pool_size= 2, strides=2))\n",
    "# cnn.add(Dropout(0.5))\n",
    "# cnn.add(Conv2D(filters= 280, kernel_size = 3,activation= 'relu'))\n",
    "# cnn.add(MaxPooling2D(pool_size= 2, strides=2))\n",
    "# cnn.add(Conv2D(filters= 280, kernel_size = 3,activation= 'relu'))\n",
    "# cnn.add(MaxPooling2D(pool_size= 2, strides=2))\n",
    "# cnn.add(Dropout(0.5))\n",
    "# cnn.add(Flatten())\n",
    "# cnn.add(Dense(units=64, activation= 'relu'))\n",
    "# #output a softmax to squash the matrix into output probabilities\n",
    "# cnn.add(Dense(num_classes, activation='softmax'))\n"
   ]
  },
  {
   "cell_type": "markdown",
   "metadata": {
    "colab_type": "text",
    "id": "D6XkI90snSDl"
   },
   "source": [
    "## Part 3 - Training the CNN"
   ]
  },
  {
   "cell_type": "markdown",
   "metadata": {
    "colab_type": "text",
    "id": "vfrFQACEnc6i"
   },
   "source": [
    "### Compiling the CNN"
   ]
  },
  {
   "cell_type": "code",
   "execution_count": 8,
   "metadata": {
    "colab": {},
    "colab_type": "code",
    "id": "NALksrNQpUlJ"
   },
   "outputs": [],
   "source": [
    "# cnn.compile(loss='kullback_leibler_divergence',\n",
    "#               optimizer = 'nadam',\n",
    "#               metrics=['accuracy'])\n",
    "cnn.compile(loss='kullback_leibler_divergence', optimizer=tf.optimizers.SGD(lr=0.001), metrics=['accuracy'])"
   ]
  },
  {
   "cell_type": "code",
   "execution_count": 9,
   "metadata": {},
   "outputs": [
    {
     "name": "stdout",
     "output_type": "stream",
     "text": [
      "Model: \"sequential_1\"\n",
      "_________________________________________________________________\n",
      "Layer (type)                 Output Shape              Param #   \n",
      "=================================================================\n",
      "conv2d_1 (Conv2D)            (None, 138, 138, 96)      34944     \n",
      "_________________________________________________________________\n",
      "batch_normalization_1 (Batch (None, 138, 138, 96)      384       \n",
      "_________________________________________________________________\n",
      "max_pooling2d_1 (MaxPooling2 (None, 68, 68, 96)        0         \n",
      "_________________________________________________________________\n",
      "conv2d_2 (Conv2D)            (None, 68, 68, 256)       614656    \n",
      "_________________________________________________________________\n",
      "batch_normalization_2 (Batch (None, 68, 68, 256)       1024      \n",
      "_________________________________________________________________\n",
      "max_pooling2d_2 (MaxPooling2 (None, 33, 33, 256)       0         \n",
      "_________________________________________________________________\n",
      "conv2d_3 (Conv2D)            (None, 33, 33, 384)       885120    \n",
      "_________________________________________________________________\n",
      "batch_normalization_3 (Batch (None, 33, 33, 384)       1536      \n",
      "_________________________________________________________________\n",
      "conv2d_4 (Conv2D)            (None, 33, 33, 384)       147840    \n",
      "_________________________________________________________________\n",
      "batch_normalization_4 (Batch (None, 33, 33, 384)       1536      \n",
      "_________________________________________________________________\n",
      "conv2d_5 (Conv2D)            (None, 33, 33, 256)       98560     \n",
      "_________________________________________________________________\n",
      "batch_normalization_5 (Batch (None, 33, 33, 256)       1024      \n",
      "_________________________________________________________________\n",
      "max_pooling2d_3 (MaxPooling2 (None, 16, 16, 256)       0         \n",
      "_________________________________________________________________\n",
      "flatten_1 (Flatten)          (None, 65536)             0         \n",
      "_________________________________________________________________\n",
      "dense_1 (Dense)              (None, 4096)              268439552 \n",
      "_________________________________________________________________\n",
      "dropout_1 (Dropout)          (None, 4096)              0         \n",
      "_________________________________________________________________\n",
      "dense_2 (Dense)              (None, 4096)              16781312  \n",
      "_________________________________________________________________\n",
      "dropout_2 (Dropout)          (None, 4096)              0         \n",
      "_________________________________________________________________\n",
      "dense_3 (Dense)              (None, 14)                57358     \n",
      "=================================================================\n",
      "Total params: 287,064,846\n",
      "Trainable params: 287,062,094\n",
      "Non-trainable params: 2,752\n",
      "_________________________________________________________________\n"
     ]
    }
   ],
   "source": [
    "cnn.summary()"
   ]
  },
  {
   "cell_type": "code",
   "execution_count": 12,
   "metadata": {
    "colab": {},
    "colab_type": "code",
    "id": "XUj1W4PJptta"
   },
   "outputs": [
    {
     "name": "stdout",
     "output_type": "stream",
     "text": [
      "Epoch 1/75\n",
      "237/237 [==============================] - 831s 4s/step - loss: 2.1672 - accuracy: 0.4089 - val_loss: 2.4537 - val_accuracy: 0.0954\n",
      "Epoch 2/75\n",
      "237/237 [==============================] - 777s 3s/step - loss: 0.9163 - accuracy: 0.6930 - val_loss: 1.4973 - val_accuracy: 0.3285\n",
      "Epoch 3/75\n",
      "237/237 [==============================] - 781s 3s/step - loss: 0.5764 - accuracy: 0.8116 - val_loss: 1.3488 - val_accuracy: 0.5620\n",
      "Epoch 4/75\n",
      "237/237 [==============================] - 778s 3s/step - loss: 0.3870 - accuracy: 0.8690 - val_loss: 1.5046 - val_accuracy: 0.5549\n",
      "Epoch 5/75\n",
      "237/237 [==============================] - 783s 3s/step - loss: 0.3120 - accuracy: 0.8968 - val_loss: 2.3334 - val_accuracy: 0.5962\n",
      "Epoch 6/75\n",
      "237/237 [==============================] - 776s 3s/step - loss: 0.2664 - accuracy: 0.9151 - val_loss: 1.1892 - val_accuracy: 0.6264\n",
      "Epoch 7/75\n",
      "237/237 [==============================] - 773s 3s/step - loss: 0.2147 - accuracy: 0.9307 - val_loss: 3.5073 - val_accuracy: 0.6181\n",
      "Epoch 8/75\n",
      "237/237 [==============================] - 774s 3s/step - loss: 0.1913 - accuracy: 0.9353 - val_loss: 1.2933 - val_accuracy: 0.6213\n",
      "Epoch 9/75\n",
      "237/237 [==============================] - 768s 3s/step - loss: 0.1834 - accuracy: 0.9348 - val_loss: 3.0190 - val_accuracy: 0.6291\n",
      "Epoch 10/75\n",
      "237/237 [==============================] - 778s 3s/step - loss: 0.1568 - accuracy: 0.9450 - val_loss: 2.5274 - val_accuracy: 0.6401\n",
      "Epoch 11/75\n",
      "237/237 [==============================] - 775s 3s/step - loss: 0.1428 - accuracy: 0.9500 - val_loss: 1.3206 - val_accuracy: 0.6601\n",
      "Epoch 12/75\n",
      "237/237 [==============================] - 771s 3s/step - loss: 0.1433 - accuracy: 0.9503 - val_loss: 1.5453 - val_accuracy: 0.6546\n",
      "Epoch 13/75\n",
      "237/237 [==============================] - 776s 3s/step - loss: 0.1350 - accuracy: 0.9495 - val_loss: 1.1199 - val_accuracy: 0.6617\n",
      "Epoch 14/75\n",
      "237/237 [==============================] - 764s 3s/step - loss: 0.1243 - accuracy: 0.9529 - val_loss: 0.6738 - val_accuracy: 0.6605\n",
      "Epoch 15/75\n",
      "237/237 [==============================] - 778s 3s/step - loss: 0.1242 - accuracy: 0.9553 - val_loss: 2.0380 - val_accuracy: 0.6758\n",
      "Epoch 16/75\n",
      "237/237 [==============================] - 761s 3s/step - loss: 0.1206 - accuracy: 0.9517 - val_loss: 2.1660 - val_accuracy: 0.6837\n",
      "Epoch 17/75\n",
      "237/237 [==============================] - 746s 3s/step - loss: 0.1155 - accuracy: 0.9542 - val_loss: 2.6607 - val_accuracy: 0.6668\n",
      "Epoch 18/75\n",
      "237/237 [==============================] - 751s 3s/step - loss: 0.1138 - accuracy: 0.9546 - val_loss: 1.4524 - val_accuracy: 0.6782\n",
      "Epoch 19/75\n",
      "237/237 [==============================] - 745s 3s/step - loss: 0.1083 - accuracy: 0.9556 - val_loss: 1.6355 - val_accuracy: 0.6692\n",
      "Epoch 20/75\n",
      "237/237 [==============================] - 743s 3s/step - loss: 0.0987 - accuracy: 0.9577 - val_loss: 1.5411 - val_accuracy: 0.6833\n",
      "Epoch 21/75\n",
      "237/237 [==============================] - 744s 3s/step - loss: 0.1044 - accuracy: 0.9560 - val_loss: 1.5923 - val_accuracy: 0.6833\n",
      "Epoch 22/75\n",
      "237/237 [==============================] - 742s 3s/step - loss: 0.1012 - accuracy: 0.9565 - val_loss: 1.4013 - val_accuracy: 0.6931\n",
      "Epoch 23/75\n",
      "237/237 [==============================] - 738s 3s/step - loss: 0.0944 - accuracy: 0.9579 - val_loss: 1.6967 - val_accuracy: 0.6809\n",
      "Epoch 24/75\n",
      "237/237 [==============================] - 745s 3s/step - loss: 0.0991 - accuracy: 0.9569 - val_loss: 1.3880 - val_accuracy: 0.6845\n",
      "Epoch 25/75\n",
      "237/237 [==============================] - 748s 3s/step - loss: 0.0878 - accuracy: 0.9635 - val_loss: 2.0704 - val_accuracy: 0.6805\n",
      "Epoch 26/75\n",
      "237/237 [==============================] - 747s 3s/step - loss: 0.0971 - accuracy: 0.9585 - val_loss: 2.2589 - val_accuracy: 0.6884\n",
      "Epoch 27/75\n",
      "237/237 [==============================] - 744s 3s/step - loss: 0.0842 - accuracy: 0.9616 - val_loss: 1.0039 - val_accuracy: 0.6978\n",
      "Epoch 28/75\n",
      "237/237 [==============================] - 745s 3s/step - loss: 0.0858 - accuracy: 0.9614 - val_loss: 1.4219 - val_accuracy: 0.6892\n",
      "Epoch 29/75\n",
      "237/237 [==============================] - 746s 3s/step - loss: 0.0904 - accuracy: 0.9602 - val_loss: 1.1523 - val_accuracy: 0.6845\n",
      "Epoch 30/75\n",
      "237/237 [==============================] - 733s 3s/step - loss: 0.0897 - accuracy: 0.9579 - val_loss: 1.1953 - val_accuracy: 0.7009\n",
      "Epoch 31/75\n",
      "237/237 [==============================] - 734s 3s/step - loss: 0.0854 - accuracy: 0.9610 - val_loss: 1.4967 - val_accuracy: 0.7033\n",
      "Epoch 32/75\n",
      "237/237 [==============================] - 744s 3s/step - loss: 0.0811 - accuracy: 0.9614 - val_loss: 0.9316 - val_accuracy: 0.7064\n",
      "Epoch 33/75\n",
      "237/237 [==============================] - 741s 3s/step - loss: 0.0821 - accuracy: 0.9630 - val_loss: 1.7686 - val_accuracy: 0.7049\n",
      "Epoch 34/75\n",
      "237/237 [==============================] - 741s 3s/step - loss: 0.0845 - accuracy: 0.9607 - val_loss: 1.4809 - val_accuracy: 0.7057\n",
      "Epoch 35/75\n",
      "237/237 [==============================] - 736s 3s/step - loss: 0.0849 - accuracy: 0.9594 - val_loss: 2.3979 - val_accuracy: 0.7053\n",
      "Epoch 36/75\n",
      "237/237 [==============================] - 741s 3s/step - loss: 0.0830 - accuracy: 0.9599 - val_loss: 0.7988 - val_accuracy: 0.7045\n",
      "Epoch 37/75\n",
      "237/237 [==============================] - 744s 3s/step - loss: 0.0789 - accuracy: 0.9616 - val_loss: 2.0840 - val_accuracy: 0.7045\n",
      "Epoch 38/75\n",
      "237/237 [==============================] - 743s 3s/step - loss: 0.0781 - accuracy: 0.9619 - val_loss: 1.5481 - val_accuracy: 0.7057\n",
      "Epoch 39/75\n",
      "237/237 [==============================] - 743s 3s/step - loss: 0.0797 - accuracy: 0.9619 - val_loss: 1.1969 - val_accuracy: 0.7057\n",
      "Epoch 40/75\n",
      "237/237 [==============================] - 739s 3s/step - loss: 0.0776 - accuracy: 0.9624 - val_loss: 1.0948 - val_accuracy: 0.7088\n",
      "Epoch 41/75\n",
      "237/237 [==============================] - 733s 3s/step - loss: 0.0794 - accuracy: 0.9606 - val_loss: 2.6093 - val_accuracy: 0.7155\n",
      "Epoch 42/75\n",
      "237/237 [==============================] - 744s 3s/step - loss: 0.0787 - accuracy: 0.9604 - val_loss: 1.5446 - val_accuracy: 0.7068\n",
      "Epoch 43/75\n",
      "237/237 [==============================] - 743s 3s/step - loss: 0.0749 - accuracy: 0.9638 - val_loss: 1.6014 - val_accuracy: 0.7135\n",
      "Epoch 44/75\n",
      "237/237 [==============================] - 741s 3s/step - loss: 0.0761 - accuracy: 0.9626 - val_loss: 2.1412 - val_accuracy: 0.7104\n",
      "Epoch 45/75\n",
      "237/237 [==============================] - 746s 3s/step - loss: 0.0762 - accuracy: 0.9627 - val_loss: 1.9265 - val_accuracy: 0.7147\n",
      "Epoch 46/75\n",
      "237/237 [==============================] - 742s 3s/step - loss: 0.0735 - accuracy: 0.9620 - val_loss: 1.5045 - val_accuracy: 0.7143\n",
      "Epoch 47/75\n",
      "237/237 [==============================] - 743s 3s/step - loss: 0.0749 - accuracy: 0.9604 - val_loss: 1.0340 - val_accuracy: 0.7186\n",
      "Epoch 48/75\n",
      "237/237 [==============================] - 734s 3s/step - loss: 0.0759 - accuracy: 0.9614 - val_loss: 1.0125 - val_accuracy: 0.7198\n",
      "Epoch 49/75\n",
      "237/237 [==============================] - 741s 3s/step - loss: 0.0767 - accuracy: 0.9620 - val_loss: 1.5587 - val_accuracy: 0.7115\n",
      "Epoch 50/75\n",
      "237/237 [==============================] - 740s 3s/step - loss: 0.0721 - accuracy: 0.9628 - val_loss: 1.0214 - val_accuracy: 0.7131\n",
      "Epoch 51/75\n",
      "237/237 [==============================] - 739s 3s/step - loss: 0.0721 - accuracy: 0.9651 - val_loss: 1.9440 - val_accuracy: 0.7080\n",
      "Epoch 52/75\n",
      "237/237 [==============================] - 740s 3s/step - loss: 0.0733 - accuracy: 0.9604 - val_loss: 1.1428 - val_accuracy: 0.7166\n",
      "Epoch 53/75\n",
      "237/237 [==============================] - 741s 3s/step - loss: 0.0724 - accuracy: 0.9619 - val_loss: 0.4916 - val_accuracy: 0.7159\n",
      "Epoch 54/75\n",
      "237/237 [==============================] - 739s 3s/step - loss: 0.0743 - accuracy: 0.9624 - val_loss: 0.9551 - val_accuracy: 0.7135\n",
      "Epoch 55/75\n",
      "237/237 [==============================] - 743s 3s/step - loss: 0.0705 - accuracy: 0.9632 - val_loss: 2.8716 - val_accuracy: 0.7108\n",
      "Epoch 56/75\n",
      "237/237 [==============================] - 739s 3s/step - loss: 0.0695 - accuracy: 0.9627 - val_loss: 1.5303 - val_accuracy: 0.7143\n",
      "Epoch 57/75\n",
      "237/237 [==============================] - 742s 3s/step - loss: 0.0742 - accuracy: 0.9601 - val_loss: 0.4316 - val_accuracy: 0.7088\n",
      "Epoch 58/75\n",
      "237/237 [==============================] - 743s 3s/step - loss: 0.0665 - accuracy: 0.9656 - val_loss: 1.5122 - val_accuracy: 0.7131\n",
      "Epoch 59/75\n",
      "237/237 [==============================] - 743s 3s/step - loss: 0.0697 - accuracy: 0.9603 - val_loss: 1.8217 - val_accuracy: 0.7080\n",
      "Epoch 60/75\n",
      "237/237 [==============================] - 740s 3s/step - loss: 0.0695 - accuracy: 0.9616 - val_loss: 1.3132 - val_accuracy: 0.7143\n",
      "Epoch 61/75\n",
      "237/237 [==============================] - 740s 3s/step - loss: 0.0712 - accuracy: 0.9627 - val_loss: 0.5809 - val_accuracy: 0.7147\n",
      "Epoch 62/75\n",
      "237/237 [==============================] - 739s 3s/step - loss: 0.0699 - accuracy: 0.9612 - val_loss: 1.6871 - val_accuracy: 0.6978\n",
      "Epoch 63/75\n",
      "237/237 [==============================] - 732s 3s/step - loss: 0.0711 - accuracy: 0.9603 - val_loss: 0.5649 - val_accuracy: 0.6998\n",
      "Epoch 64/75\n",
      "237/237 [==============================] - 741s 3s/step - loss: 0.0668 - accuracy: 0.9638 - val_loss: 1.4246 - val_accuracy: 0.7068\n",
      "Epoch 65/75\n",
      "237/237 [==============================] - 734s 3s/step - loss: 0.0646 - accuracy: 0.9638 - val_loss: 1.2752 - val_accuracy: 0.7057\n",
      "Epoch 66/75\n",
      "237/237 [==============================] - 741s 3s/step - loss: 0.0693 - accuracy: 0.9615 - val_loss: 1.5753 - val_accuracy: 0.7041\n",
      "Epoch 67/75\n",
      "237/237 [==============================] - 742s 3s/step - loss: 0.0628 - accuracy: 0.9644 - val_loss: 1.3354 - val_accuracy: 0.7104\n",
      "Epoch 68/75\n",
      "237/237 [==============================] - 741s 3s/step - loss: 0.0675 - accuracy: 0.9632 - val_loss: 0.1442 - val_accuracy: 0.7108\n",
      "Epoch 69/75\n",
      "237/237 [==============================] - 741s 3s/step - loss: 0.0656 - accuracy: 0.9635 - val_loss: 1.2615 - val_accuracy: 0.7092\n",
      "Epoch 70/75\n",
      "237/237 [==============================] - 735s 3s/step - loss: 0.0655 - accuracy: 0.9611 - val_loss: 1.1887 - val_accuracy: 0.7111\n",
      "Epoch 71/75\n",
      "237/237 [==============================] - 740s 3s/step - loss: 0.0663 - accuracy: 0.9635 - val_loss: 1.7980 - val_accuracy: 0.7115\n",
      "Epoch 72/75\n",
      "237/237 [==============================] - 742s 3s/step - loss: 0.0658 - accuracy: 0.9614 - val_loss: 1.0862 - val_accuracy: 0.7170\n",
      "Epoch 73/75\n",
      "237/237 [==============================] - 744s 3s/step - loss: 0.0683 - accuracy: 0.9623 - val_loss: 2.6945 - val_accuracy: 0.7225\n",
      "Epoch 74/75\n",
      "237/237 [==============================] - 742s 3s/step - loss: 0.0654 - accuracy: 0.9639 - val_loss: 1.4494 - val_accuracy: 0.7217\n",
      "Epoch 75/75\n",
      "237/237 [==============================] - 744s 3s/step - loss: 0.0653 - accuracy: 0.9640 - val_loss: 1.5026 - val_accuracy: 0.7206\n"
     ]
    }
   ],
   "source": [
    "h = cnn.fit(x = training_set, validation_data = test_set, epochs = 100)"
   ]
  },
  {
   "cell_type": "markdown",
   "metadata": {
    "colab_type": "text",
    "id": "ehS-v3MIpX2h"
   },
   "source": [
    "### Training the CNN on the Training set and evaluating it on the Test set"
   ]
  },
  {
   "cell_type": "code",
   "execution_count": 13,
   "metadata": {},
   "outputs": [
    {
     "data": {
      "text/plain": [
       "dict_keys(['val_loss', 'val_accuracy', 'loss', 'accuracy'])"
      ]
     },
     "execution_count": 13,
     "metadata": {},
     "output_type": "execute_result"
    }
   ],
   "source": [
    "h.history.keys()"
   ]
  },
  {
   "cell_type": "code",
   "execution_count": 14,
   "metadata": {},
   "outputs": [],
   "source": [
    "accuracy = h.history['accuracy']\n",
    "loss = h.history['loss']\n",
    "val_accuracy = h.history['val_accuracy']\n",
    "val_loss = h.history['val_loss']"
   ]
  },
  {
   "cell_type": "code",
   "execution_count": 15,
   "metadata": {},
   "outputs": [
    {
     "data": {
      "text/plain": [
       "<matplotlib.legend.Legend at 0x7f037e0b5a58>"
      ]
     },
     "execution_count": 15,
     "metadata": {},
     "output_type": "execute_result"
    },
    {
     "data": {
      "image/png": "[encoded data removed]",
      "text/plain": [
       "<Figure size 432x288 with 1 Axes>"
      ]
     },
     "metadata": {
      "needs_background": "light"
     },
     "output_type": "display_data"
    }
   ],
   "source": [
    "epochs = range(len(accuracy))\n",
    "plt.plot(epochs, accuracy, 'b', label='Training Accuracy')\n",
    "plt.plot(epochs, loss, 'r', label='Training loss')\n",
    "plt.plot(epochs, val_accuracy, 'g', label='Validation Accuracy')\n",
    "plt.plot(epochs, val_loss, 'y', label='Validation loss')\n",
    "plt.title('Training Accuracy and Loss w/ Validation Accuracy and Loss')\n",
    "plt.legend()\n",
    "# second run with 540/182 dataset split 237 steps 25 epochs loss: kullback_leibler_divergence optimizer: nadam"
   ]
  },
  {
   "cell_type": "markdown",
   "metadata": {
    "colab_type": "text",
    "id": "U3PZasO0006Z"
   },
   "source": [
    "### Part 4 - Making a single prediction"
   ]
  },
  {
   "cell_type": "code",
   "execution_count": 16,
   "metadata": {
    "colab": {},
    "colab_type": "code",
    "id": "gsSiWEJY1BPB"
   },
   "outputs": [
    {
     "name": "stdout",
     "output_type": "stream",
     "text": [
      "Saved model to disk\n"
     ]
    }
   ],
   "source": [
    "model_json = cnn.to_json()\n",
    "with open(\"cnnfinal.json\", \"w\") as json_file:\n",
    "    json_file.write(model_json)\n",
    "# serialize weights to HDF5\n",
    "cnn.save_weights(\"cnnfinal.h5\")\n",
    "print(\"Saved model to disk\")\n"
   ]
  },
  {
   "cell_type": "code",
   "execution_count": 17,
   "metadata": {},
   "outputs": [
    {
     "name": "stdout",
     "output_type": "stream",
     "text": [
      "[[0. 0. 0. 0. 0. 0. 0. 0. 0. 0. 1. 0. 0. 0.]]\n",
      "Reticulum\n"
     ]
    }
   ],
   "source": [
    "import numpy as np\n",
    "from keras.preprocessing import image\n",
    "test_image = image.load_img('/floyd/input/cnndata/Musca.png', target_size = (280, 280))\n",
    "test_image = image.img_to_array(test_image)\n",
    "test_image = np.expand_dims(test_image, axis = 0)\n",
    "result = cnn.predict(test_image)\n",
    "training_set.class_indices\n",
    "thing = ['Apus','Auriga','Camelopardalis','Cassiopeia','Chamaeleon','Circinus','Crux','Dorado','Indus','Musca','Reticulum','Triangulum Australe','Tucana','Ursa MinorUrsa Major']\n",
    "print(result)\n",
    "e = np.argmax(result,axis=1)\n",
    "e=int(e)\n",
    "# print(cnn.predict_generator(test_image))\n",
    "print(thing[e])\n",
    "#Circinus, Apus"
   ]
  },
  {
   "cell_type": "code",
   "execution_count": null,
   "metadata": {},
   "outputs": [],
   "source": []
  },
  {
   "cell_type": "code",
   "execution_count": 18,
   "metadata": {},
   "outputs": [
    {
     "name": "stdout",
     "output_type": "stream",
     "text": [
      "[[0. 0. 0. 0. 0. 0. 0. 1. 0. 0. 0. 0. 0. 0.]]\n",
      "Dorado\n"
     ]
    }
   ],
   "source": [
    "import numpy as np\n",
    "from keras.preprocessing import image\n",
    "test_image = image.load_img('/floyd/input/cnndata/Apus  (2).png', target_size = (280, 280))\n",
    "test_image = image.img_to_array(test_image)\n",
    "test_image = np.expand_dims(test_image, axis = 0)\n",
    "result = cnn.predict(test_image)\n",
    "training_set.class_indices\n",
    "thing = ['Apus','Auriga','Camelopardalis','Cassiopeia','Chamaeleon','Circinus','Crux','Dorado','Indus','Musca','Reticulum','Triangulum Australe','Tucana','Ursa MinorUrsa Major']\n",
    "print(result)\n",
    "e = np.argmax(result,axis=1)\n",
    "e=int(e)\n",
    "# print(cnn.predict_generator(test_image))\n",
    "print(thing[e])\n",
    "#Circinus, Apus"
   ]
  },
  {
   "cell_type": "code",
   "execution_count": 19,
   "metadata": {
    "colab": {},
    "colab_type": "code",
    "id": "ED9KB3I54c1i"
   },
   "outputs": [
    {
     "name": "stdout",
     "output_type": "stream",
     "text": [
      "[[0. 0. 0. 0. 0. 0. 0. 0. 0. 0. 1. 0. 0. 0.]]\n",
      "Reticulum\n"
     ]
    }
   ],
   "source": [
    "import numpy as np\n",
    "from keras.preprocessing import image\n",
    "test_image = image.load_img('/floyd/input/cnndata/Apus .png', target_size = (280, 280))\n",
    "test_image = image.img_to_array(test_image)\n",
    "test_image = np.expand_dims(test_image, axis = 0)\n",
    "result = cnn.predict(test_image)\n",
    "training_set.class_indices\n",
    "thing = ['Apus','Auriga','Camelopardalis','Cassiopeia','Chamaeleon','Circinus','Crux','Dorado','Indus','Musca','Reticulum','Triangulum Australe','Tucana','Ursa MinorUrsa Major']\n",
    "print(result)\n",
    "e = np.argmax(result,axis=1)\n",
    "e=int(e)\n",
    "# print(cnn.predict_generator(test_image))\n",
    "print(thing[e])\n",
    "#Circinus, Apus"
   ]
  },
  {
   "cell_type": "code",
   "execution_count": 20,
   "metadata": {},
   "outputs": [
    {
     "name": "stdout",
     "output_type": "stream",
     "text": [
      "[[0. 0. 1. 0. 0. 0. 0. 0. 0. 0. 0. 0. 0. 0.]]\n",
      "Camelopardalis\n"
     ]
    }
   ],
   "source": [
    "import numpy as np\n",
    "from keras.preprocessing import image\n",
    "test_image = image.load_img('/floyd/input/cnndata/Auriga  .png', target_size = (280, 280))\n",
    "test_image = image.img_to_array(test_image)\n",
    "test_image = np.expand_dims(test_image, axis = 0)\n",
    "result = cnn.predict(test_image)\n",
    "training_set.class_indices\n",
    "thing = ['Apus','Auriga','Camelopardalis','Cassiopeia','Chamaeleon','Circinus','Crux','Dorado','Indus','Musca','Reticulum','Triangulum Australe','Tucana','Ursa MinorUrsa Major']\n",
    "print(result)\n",
    "e = np.argmax(result,axis=1)\n",
    "e=int(e)\n",
    "# print(cnn.predict_generator(test_image))\n",
    "print(thing[e])\n",
    "#Circinus, Apus"
   ]
  },
  {
   "cell_type": "code",
   "execution_count": 21,
   "metadata": {},
   "outputs": [
    {
     "name": "stdout",
     "output_type": "stream",
     "text": [
      "[[0. 0. 0. 0. 0. 0. 0. 0. 0. 0. 0. 0. 1. 0.]]\n",
      "Tucana\n"
     ]
    }
   ],
   "source": [
    "import numpy as np\n",
    "from keras.preprocessing import image\n",
    "test_image = image.load_img('/floyd/input/cnndata/Auriga 2 .png', target_size = (280, 280))\n",
    "test_image = image.img_to_array(test_image)\n",
    "test_image = np.expand_dims(test_image, axis = 0)\n",
    "result = cnn.predict(test_image)\n",
    "training_set.class_indices\n",
    "thing = ['Apus','Auriga','Camelopardalis','Cassiopeia','Chamaeleon','Circinus','Crux','Dorado','Indus','Musca','Reticulum','Triangulum Australe','Tucana','Ursa MinorUrsa Major']\n",
    "print(result)\n",
    "e = np.argmax(result,axis=1)\n",
    "e=int(e)\n",
    "# print(cnn.predict_generator(test_image))\n",
    "print(thing[e])\n",
    "#Circinus, Apus"
   ]
  },
  {
   "cell_type": "code",
   "execution_count": 22,
   "metadata": {},
   "outputs": [
    {
     "name": "stdout",
     "output_type": "stream",
     "text": [
      "[[0. 0. 1. 0. 0. 0. 0. 0. 0. 0. 0. 0. 0. 0.]]\n",
      "Camelopardalis\n"
     ]
    }
   ],
   "source": [
    "import numpy as np\n",
    "from keras.preprocessing import image\n",
    "test_image = image.load_img('/floyd/input/cnndata/Camelopardalis1.png', target_size = (280, 280))\n",
    "test_image = image.img_to_array(test_image)\n",
    "test_image = np.expand_dims(test_image, axis = 0)\n",
    "result = cnn.predict(test_image)\n",
    "training_set.class_indices\n",
    "thing = ['Apus','Auriga','Camelopardalis','Cassiopeia','Chamaeleon','Circinus','Crux','Dorado','Indus','Musca','Reticulum','Triangulum Australe','Tucana','Ursa MinorUrsa Major']\n",
    "print(result)\n",
    "e = np.argmax(result,axis=1)\n",
    "e=int(e)\n",
    "# print(cnn.predict_generator(test_image))\n",
    "print(thing[e])\n",
    "#Circinus, Apus"
   ]
  },
  {
   "cell_type": "code",
   "execution_count": 23,
   "metadata": {},
   "outputs": [
    {
     "name": "stdout",
     "output_type": "stream",
     "text": [
      "[[0. 0. 1. 0. 0. 0. 0. 0. 0. 0. 0. 0. 0. 0.]]\n",
      "Camelopardalis\n"
     ]
    }
   ],
   "source": [
    "import numpy as np\n",
    "from keras.preprocessing import image\n",
    "test_image = image.load_img('/floyd/input/cnndata/Camelopardalis2.png', target_size = (280, 280))\n",
    "test_image = image.img_to_array(test_image)\n",
    "test_image = np.expand_dims(test_image, axis = 0)\n",
    "result = cnn.predict(test_image)\n",
    "training_set.class_indices\n",
    "thing = ['Apus','Auriga','Camelopardalis','Cassiopeia','Chamaeleon','Circinus','Crux','Dorado','Indus','Musca','Reticulum','Triangulum Australe','Tucana','Ursa MinorUrsa Major']\n",
    "print(result)\n",
    "e = np.argmax(result,axis=1)\n",
    "e=int(e)\n",
    "# print(cnn.predict_generator(test_image))\n",
    "print(thing[e])\n",
    "#Circinus, Apus"
   ]
  },
  {
   "cell_type": "code",
   "execution_count": 24,
   "metadata": {},
   "outputs": [
    {
     "name": "stdout",
     "output_type": "stream",
     "text": [
      "[[0. 0. 1. 0. 0. 0. 0. 0. 0. 0. 0. 0. 0. 0.]]\n",
      "Camelopardalis\n"
     ]
    }
   ],
   "source": [
    "import numpy as np\n",
    "from keras.preprocessing import image\n",
    "test_image = image.load_img('/floyd/input/cnndata/Cassiopeia1.png', target_size = (280, 280))\n",
    "test_image = image.img_to_array(test_image)\n",
    "test_image = np.expand_dims(test_image, axis = 0)\n",
    "result = cnn.predict(test_image)\n",
    "training_set.class_indices\n",
    "thing = ['Apus','Auriga','Camelopardalis','Cassiopeia','Chamaeleon','Circinus','Crux','Dorado','Indus','Musca','Reticulum','Triangulum Australe','Tucana','Ursa MinorUrsa Major']\n",
    "print(result)\n",
    "e = np.argmax(result,axis=1)\n",
    "e=int(e)\n",
    "# print(cnn.predict_generator(test_image))\n",
    "print(thing[e])\n",
    "#Circinus, Apus"
   ]
  },
  {
   "cell_type": "code",
   "execution_count": 25,
   "metadata": {},
   "outputs": [
    {
     "name": "stdout",
     "output_type": "stream",
     "text": [
      "[[0. 0. 1. 0. 0. 0. 0. 0. 0. 0. 0. 0. 0. 0.]]\n",
      "Camelopardalis\n"
     ]
    }
   ],
   "source": [
    "import numpy as np\n",
    "from keras.preprocessing import image\n",
    "test_image = image.load_img('/floyd/input/cnndata/Cassiopeia2.png', target_size = (280, 280))\n",
    "test_image = image.img_to_array(test_image)\n",
    "test_image = np.expand_dims(test_image, axis = 0)\n",
    "result = cnn.predict(test_image)\n",
    "training_set.class_indices\n",
    "thing = ['Apus','Auriga','Camelopardalis','Cassiopeia','Chamaeleon','Circinus','Crux','Dorado','Indus','Musca','Reticulum','Triangulum Australe','Tucana','Ursa MinorUrsa Major']\n",
    "print(result)\n",
    "e = np.argmax(result,axis=1)\n",
    "e=int(e)\n",
    "# print(cnn.predict_generator(test_image))\n",
    "print(thing[e])\n",
    "#Circinus, Apus"
   ]
  },
  {
   "cell_type": "code",
   "execution_count": 26,
   "metadata": {},
   "outputs": [
    {
     "name": "stdout",
     "output_type": "stream",
     "text": [
      "[[0. 1. 0. 0. 0. 0. 0. 0. 0. 0. 0. 0. 0. 0.]]\n",
      "Auriga\n"
     ]
    }
   ],
   "source": [
    "import numpy as np\n",
    "from keras.preprocessing import image\n",
    "test_image = image.load_img('/floyd/input/cnndata/Chamaeleon (2).png', target_size = (280, 280))\n",
    "test_image = image.img_to_array(test_image)\n",
    "test_image = np.expand_dims(test_image, axis = 0)\n",
    "result = cnn.predict(test_image)\n",
    "training_set.class_indices\n",
    "thing = ['Apus','Auriga','Camelopardalis','Cassiopeia','Chamaeleon','Circinus','Crux','Dorado','Indus','Musca','Reticulum','Triangulum Australe','Tucana','Ursa MinorUrsa Major']\n",
    "print(result)\n",
    "e = np.argmax(result,axis=1)\n",
    "e=int(e)\n",
    "# print(cnn.predict_generator(test_image))\n",
    "print(thing[e])\n",
    "#Circinus, Apus"
   ]
  },
  {
   "cell_type": "code",
   "execution_count": 27,
   "metadata": {},
   "outputs": [
    {
     "name": "stdout",
     "output_type": "stream",
     "text": [
      "[[0. 0. 0. 0. 0. 0. 0. 0. 1. 0. 0. 0. 0. 0.]]\n",
      "Indus\n"
     ]
    }
   ],
   "source": [
    "import numpy as np\n",
    "from keras.preprocessing import image\n",
    "test_image = image.load_img('/floyd/input/cnndata/Chamaeleon.png', target_size = (280, 280))\n",
    "test_image = image.img_to_array(test_image)\n",
    "test_image = np.expand_dims(test_image, axis = 0)\n",
    "result = cnn.predict(test_image)\n",
    "training_set.class_indices\n",
    "thing = ['Apus','Auriga','Camelopardalis','Cassiopeia','Chamaeleon','Circinus','Crux','Dorado','Indus','Musca','Reticulum','Triangulum Australe','Tucana','Ursa MinorUrsa Major']\n",
    "print(result)\n",
    "e = np.argmax(result,axis=1)\n",
    "e=int(e)\n",
    "# print(cnn.predict_generator(test_image))\n",
    "print(thing[e])\n",
    "#Circinus, Apus"
   ]
  },
  {
   "cell_type": "code",
   "execution_count": 28,
   "metadata": {},
   "outputs": [
    {
     "name": "stdout",
     "output_type": "stream",
     "text": [
      "[[0. 0. 0. 0. 0. 0. 0. 0. 0. 0. 1. 0. 0. 0.]]\n",
      "Reticulum\n"
     ]
    }
   ],
   "source": [
    "import numpy as np\n",
    "from keras.preprocessing import image\n",
    "test_image = image.load_img('/floyd/input/cnndata/Circinus (2).png', target_size = (280, 280))\n",
    "test_image = image.img_to_array(test_image)\n",
    "test_image = np.expand_dims(test_image, axis = 0)\n",
    "result = cnn.predict(test_image)\n",
    "training_set.class_indices\n",
    "thing = ['Apus','Auriga','Camelopardalis','Cassiopeia','Chamaeleon','Circinus','Crux','Dorado','Indus','Musca','Reticulum','Triangulum Australe','Tucana','Ursa MinorUrsa Major']\n",
    "print(result)\n",
    "e = np.argmax(result,axis=1)\n",
    "e=int(e)\n",
    "# print(cnn.predict_generator(test_image))\n",
    "print(thing[e])\n",
    "#Circinus, Apus"
   ]
  },
  {
   "cell_type": "code",
   "execution_count": 29,
   "metadata": {},
   "outputs": [
    {
     "name": "stdout",
     "output_type": "stream",
     "text": [
      "[[0. 0. 0. 0. 0. 0. 0. 1. 0. 0. 0. 0. 0. 0.]]\n",
      "Dorado\n"
     ]
    }
   ],
   "source": [
    "import numpy as np\n",
    "from keras.preprocessing import image\n",
    "test_image = image.load_img('/floyd/input/cnndata/Circinus.png', target_size = (280, 280))\n",
    "test_image = image.img_to_array(test_image)\n",
    "test_image = np.expand_dims(test_image, axis = 0)\n",
    "result = cnn.predict(test_image)\n",
    "training_set.class_indices\n",
    "thing = ['Apus','Auriga','Camelopardalis','Cassiopeia','Chamaeleon','Circinus','Crux','Dorado','Indus','Musca','Reticulum','Triangulum Australe','Tucana','Ursa MinorUrsa Major']\n",
    "print(result)\n",
    "e = np.argmax(result,axis=1)\n",
    "e=int(e)\n",
    "# print(cnn.predict_generator(test_image))\n",
    "print(thing[e])\n",
    "#Circinus, Apus"
   ]
  },
  {
   "cell_type": "code",
   "execution_count": 30,
   "metadata": {},
   "outputs": [
    {
     "name": "stdout",
     "output_type": "stream",
     "text": [
      "[[0. 0. 1. 0. 0. 0. 0. 0. 0. 0. 0. 0. 0. 0.]]\n",
      "Camelopardalis\n"
     ]
    }
   ],
   "source": [
    "import numpy as np\n",
    "from keras.preprocessing import image\n",
    "test_image = image.load_img('/floyd/input/cnndata/Crux  (2).png', target_size = (280, 280))\n",
    "test_image = image.img_to_array(test_image)\n",
    "test_image = np.expand_dims(test_image, axis = 0)\n",
    "result = cnn.predict(test_image)\n",
    "training_set.class_indices\n",
    "thing = ['Apus','Auriga','Camelopardalis','Cassiopeia','Chamaeleon','Circinus','Crux','Dorado','Indus','Musca','Reticulum','Triangulum Australe','Tucana','Ursa MinorUrsa Major']\n",
    "print(result)\n",
    "e = np.argmax(result,axis=1)\n",
    "e=int(e)\n",
    "# print(cnn.predict_generator(test_image))\n",
    "print(thing[e])\n",
    "#Circinus, Apus"
   ]
  },
  {
   "cell_type": "code",
   "execution_count": 31,
   "metadata": {},
   "outputs": [
    {
     "name": "stdout",
     "output_type": "stream",
     "text": [
      "[[0. 0. 0. 0. 0. 0. 0. 1. 0. 0. 0. 0. 0. 0.]]\n",
      "Dorado\n"
     ]
    }
   ],
   "source": [
    "import numpy as np\n",
    "from keras.preprocessing import image\n",
    "test_image = image.load_img('/floyd/input/cnndata/Crux .png', target_size = (280, 280))\n",
    "test_image = image.img_to_array(test_image)\n",
    "test_image = np.expand_dims(test_image, axis = 0)\n",
    "result = cnn.predict(test_image)\n",
    "training_set.class_indices\n",
    "thing = ['Apus','Auriga','Camelopardalis','Cassiopeia','Chamaeleon','Circinus','Crux','Dorado','Indus','Musca','Reticulum','Triangulum Australe','Tucana','Ursa MinorUrsa Major']\n",
    "print(result)\n",
    "e = np.argmax(result,axis=1)\n",
    "e=int(e)\n",
    "# print(cnn.predict_generator(test_image))\n",
    "print(thing[e])\n",
    "#Circinus, Apus"
   ]
  },
  {
   "cell_type": "code",
   "execution_count": 32,
   "metadata": {},
   "outputs": [
    {
     "name": "stdout",
     "output_type": "stream",
     "text": [
      "[[0. 0. 0. 0. 0. 0. 0. 1. 0. 0. 0. 0. 0. 0.]]\n",
      "Dorado\n"
     ]
    }
   ],
   "source": [
    "import numpy as np\n",
    "from keras.preprocessing import image\n",
    "test_image = image.load_img('/floyd/input/cnndata/Dorado (2).png', target_size = (280, 280))\n",
    "test_image = image.img_to_array(test_image)\n",
    "test_image = np.expand_dims(test_image, axis = 0)\n",
    "result = cnn.predict(test_image)\n",
    "training_set.class_indices\n",
    "thing = ['Apus','Auriga','Camelopardalis','Cassiopeia','Chamaeleon','Circinus','Crux','Dorado','Indus','Musca','Reticulum','Triangulum Australe','Tucana','Ursa MinorUrsa Major']\n",
    "print(result)\n",
    "e = np.argmax(result,axis=1)\n",
    "e=int(e)\n",
    "# print(cnn.predict_generator(test_image))\n",
    "print(thing[e])\n",
    "#Circinus, Apus"
   ]
  },
  {
   "cell_type": "code",
   "execution_count": 33,
   "metadata": {},
   "outputs": [
    {
     "name": "stdout",
     "output_type": "stream",
     "text": [
      "[[0. 0. 0. 0. 0. 0. 0. 1. 0. 0. 0. 0. 0. 0.]]\n",
      "Dorado\n"
     ]
    }
   ],
   "source": [
    "import numpy as np\n",
    "from keras.preprocessing import image\n",
    "test_image = image.load_img('/floyd/input/cnndata/Dorado.png', target_size = (280, 280))\n",
    "test_image = image.img_to_array(test_image)\n",
    "test_image = np.expand_dims(test_image, axis = 0)\n",
    "result = cnn.predict(test_image)\n",
    "training_set.class_indices\n",
    "thing = ['Apus','Auriga','Camelopardalis','Cassiopeia','Chamaeleon','Circinus','Crux','Dorado','Indus','Musca','Reticulum','Triangulum Australe','Tucana','Ursa MinorUrsa Major']\n",
    "print(result)\n",
    "e = np.argmax(result,axis=1)\n",
    "e=int(e)\n",
    "# print(cnn.predict_generator(test_image))\n",
    "print(thing[e])\n",
    "#Circinus, Apus"
   ]
  },
  {
   "cell_type": "code",
   "execution_count": 34,
   "metadata": {},
   "outputs": [
    {
     "name": "stdout",
     "output_type": "stream",
     "text": [
      "[[0. 0. 0. 0. 0. 1. 0. 0. 0. 0. 0. 0. 0. 0.]]\n",
      "Circinus\n"
     ]
    }
   ],
   "source": [
    "import numpy as np\n",
    "from keras.preprocessing import image\n",
    "test_image = image.load_img('/floyd/input/cnndata/Indus.png', target_size = (280, 280))\n",
    "test_image = image.img_to_array(test_image)\n",
    "test_image = np.expand_dims(test_image, axis = 0)\n",
    "result = cnn.predict(test_image)\n",
    "training_set.class_indices\n",
    "thing = ['Apus','Auriga','Camelopardalis','Cassiopeia','Chamaeleon','Circinus','Crux','Dorado','Indus','Musca','Reticulum','Triangulum Australe','Tucana','Ursa MinorUrsa Major']\n",
    "print(result)\n",
    "e = np.argmax(result,axis=1)\n",
    "e=int(e)\n",
    "# print(cnn.predict_generator(test_image))\n",
    "print(thing[e])\n",
    "#Circinus, Apus"
   ]
  },
  {
   "cell_type": "code",
   "execution_count": 35,
   "metadata": {},
   "outputs": [
    {
     "name": "stdout",
     "output_type": "stream",
     "text": [
      "[[0. 0. 0. 0. 0. 0. 0. 0. 1. 0. 0. 0. 0. 0.]]\n",
      "Indus\n"
     ]
    }
   ],
   "source": [
    "import numpy as np\n",
    "from keras.preprocessing import image\n",
    "test_image = image.load_img('/floyd/input/cnndata/Indus2.png', target_size = (280, 280))\n",
    "test_image = image.img_to_array(test_image)\n",
    "test_image = np.expand_dims(test_image, axis = 0)\n",
    "result = cnn.predict(test_image)\n",
    "training_set.class_indices\n",
    "thing = ['Apus','Auriga','Camelopardalis','Cassiopeia','Chamaeleon','Circinus','Crux','Dorado','Indus','Musca','Reticulum','Triangulum Australe','Tucana','Ursa MinorUrsa Major']\n",
    "print(result)\n",
    "e = np.argmax(result,axis=1)\n",
    "e=int(e)\n",
    "# print(cnn.predict_generator(test_image))\n",
    "print(thing[e])\n",
    "#Circinus, Apus"
   ]
  },
  {
   "cell_type": "code",
   "execution_count": 36,
   "metadata": {},
   "outputs": [
    {
     "name": "stdout",
     "output_type": "stream",
     "text": [
      "[[0. 0. 1. 0. 0. 0. 0. 0. 0. 0. 0. 0. 0. 0.]]\n",
      "Camelopardalis\n"
     ]
    }
   ],
   "source": [
    "import numpy as np\n",
    "from keras.preprocessing import image\n",
    "test_image = image.load_img('/floyd/input/cnndata/Musca (2).png', target_size = (280, 280))\n",
    "test_image = image.img_to_array(test_image)\n",
    "test_image = np.expand_dims(test_image, axis = 0)\n",
    "result = cnn.predict(test_image)\n",
    "training_set.class_indices\n",
    "thing = ['Apus','Auriga','Camelopardalis','Cassiopeia','Chamaeleon','Circinus','Crux','Dorado','Indus','Musca','Reticulum','Triangulum Australe','Tucana','Ursa MinorUrsa Major']\n",
    "print(result)\n",
    "e = np.argmax(result,axis=1)\n",
    "e=int(e)\n",
    "# print(cnn.predict_generator(test_image))\n",
    "print(thing[e])\n",
    "#Circinus, Apus"
   ]
  },
  {
   "cell_type": "code",
   "execution_count": 37,
   "metadata": {},
   "outputs": [
    {
     "name": "stdout",
     "output_type": "stream",
     "text": [
      "[[0. 0. 0. 0. 0. 0. 0. 0. 0. 0. 1. 0. 0. 0.]]\n",
      "Reticulum\n"
     ]
    }
   ],
   "source": [
    "import numpy as np\n",
    "from keras.preprocessing import image\n",
    "test_image = image.load_img('/floyd/input/cnndata/Musca.png', target_size = (280, 280))\n",
    "test_image = image.img_to_array(test_image)\n",
    "test_image = np.expand_dims(test_image, axis = 0)\n",
    "result = cnn.predict(test_image)\n",
    "training_set.class_indices\n",
    "thing = ['Apus','Auriga','Camelopardalis','Cassiopeia','Chamaeleon','Circinus','Crux','Dorado','Indus','Musca','Reticulum','Triangulum Australe','Tucana','Ursa MinorUrsa Major']\n",
    "print(result)\n",
    "e = np.argmax(result,axis=1)\n",
    "e=int(e)\n",
    "# print(cnn.predict_generator(test_image))\n",
    "print(thing[e])\n",
    "#Circinus, Apus"
   ]
  },
  {
   "cell_type": "code",
   "execution_count": 38,
   "metadata": {},
   "outputs": [
    {
     "name": "stdout",
     "output_type": "stream",
     "text": [
      "[[0. 0. 1. 0. 0. 0. 0. 0. 0. 0. 0. 0. 0. 0.]]\n",
      "Camelopardalis\n"
     ]
    }
   ],
   "source": [
    "import numpy as np\n",
    "from keras.preprocessing import image\n",
    "test_image = image.load_img('/floyd/input/cnndata/Reticulum  (2).png', target_size = (280, 280))\n",
    "test_image = image.img_to_array(test_image)\n",
    "test_image = np.expand_dims(test_image, axis = 0)\n",
    "result = cnn.predict(test_image)\n",
    "training_set.class_indices\n",
    "thing = ['Apus','Auriga','Camelopardalis','Cassiopeia','Chamaeleon','Circinus','Crux','Dorado','Indus','Musca','Reticulum','Triangulum Australe','Tucana','Ursa MinorUrsa Major']\n",
    "print(result)\n",
    "e = np.argmax(result,axis=1)\n",
    "e=int(e)\n",
    "# print(cnn.predict_generator(test_image))\n",
    "print(thing[e])\n",
    "#Circinus, Apus"
   ]
  },
  {
   "cell_type": "code",
   "execution_count": 39,
   "metadata": {},
   "outputs": [
    {
     "name": "stdout",
     "output_type": "stream",
     "text": [
      "[[0. 0. 0. 0. 0. 0. 0. 0. 0. 0. 0. 0. 1. 0.]]\n",
      "Tucana\n"
     ]
    }
   ],
   "source": [
    "import numpy as np\n",
    "from keras.preprocessing import image\n",
    "test_image = image.load_img('/floyd/input/cnndata/Reticulum .png', target_size = (280, 280))\n",
    "test_image = image.img_to_array(test_image)\n",
    "test_image = np.expand_dims(test_image, axis = 0)\n",
    "result = cnn.predict(test_image)\n",
    "training_set.class_indices\n",
    "thing = ['Apus','Auriga','Camelopardalis','Cassiopeia','Chamaeleon','Circinus','Crux','Dorado','Indus','Musca','Reticulum','Triangulum Australe','Tucana','Ursa MinorUrsa Major']\n",
    "print(result)\n",
    "e = np.argmax(result,axis=1)\n",
    "e=int(e)\n",
    "# print(cnn.predict_generator(test_image))\n",
    "print(thing[e])\n",
    "#Circinus, Apus"
   ]
  },
  {
   "cell_type": "code",
   "execution_count": 40,
   "metadata": {},
   "outputs": [
    {
     "name": "stdout",
     "output_type": "stream",
     "text": [
      "[[0. 0. 0. 0. 0. 0. 1. 0. 0. 0. 0. 0. 0. 0.]]\n",
      "Crux\n"
     ]
    }
   ],
   "source": [
    "import numpy as np\n",
    "from keras.preprocessing import image\n",
    "test_image = image.load_img('/floyd/input/cnndata/Triangulum Australe (2).png', target_size = (280, 280))\n",
    "test_image = image.img_to_array(test_image)\n",
    "test_image = np.expand_dims(test_image, axis = 0)\n",
    "result = cnn.predict(test_image)\n",
    "training_set.class_indices\n",
    "thing = ['Apus','Auriga','Camelopardalis','Cassiopeia','Chamaeleon','Circinus','Crux','Dorado','Indus','Musca','Reticulum','Triangulum Australe','Tucana','Ursa MinorUrsa Major']\n",
    "print(result)\n",
    "e = np.argmax(result,axis=1)\n",
    "e=int(e)\n",
    "# print(cnn.predict_generator(test_image))\n",
    "print(thing[e])\n",
    "#Circinus, Apus"
   ]
  },
  {
   "cell_type": "code",
   "execution_count": 41,
   "metadata": {},
   "outputs": [
    {
     "name": "stdout",
     "output_type": "stream",
     "text": [
      "[[0. 0. 0. 0. 0. 0. 0. 0. 1. 0. 0. 0. 0. 0.]]\n",
      "Indus\n"
     ]
    }
   ],
   "source": [
    "import numpy as np\n",
    "from keras.preprocessing import image\n",
    "test_image = image.load_img('/floyd/input/cnndata/Triangulum Australe.png', target_size = (280, 280))\n",
    "test_image = image.img_to_array(test_image)\n",
    "test_image = np.expand_dims(test_image, axis = 0)\n",
    "result = cnn.predict(test_image)\n",
    "training_set.class_indices\n",
    "thing = ['Apus','Auriga','Camelopardalis','Cassiopeia','Chamaeleon','Circinus','Crux','Dorado','Indus','Musca','Reticulum','Triangulum Australe','Tucana','Ursa MinorUrsa Major']\n",
    "print(result)\n",
    "e = np.argmax(result,axis=1)\n",
    "e=int(e)\n",
    "# print(cnn.predict_generator(test_image))\n",
    "print(thing[e])\n",
    "#Circinus, Apus"
   ]
  },
  {
   "cell_type": "code",
   "execution_count": 42,
   "metadata": {},
   "outputs": [
    {
     "name": "stdout",
     "output_type": "stream",
     "text": [
      "[[0. 0. 0. 0. 0. 0. 0. 0. 0. 0. 0. 0. 1. 0.]]\n",
      "Tucana\n"
     ]
    }
   ],
   "source": [
    "import numpy as np\n",
    "from keras.preprocessing import image\n",
    "test_image = image.load_img('/floyd/input/cnndata/Tucana (2).png', target_size = (280, 280))\n",
    "test_image = image.img_to_array(test_image)\n",
    "test_image = np.expand_dims(test_image, axis = 0)\n",
    "result = cnn.predict(test_image)\n",
    "training_set.class_indices\n",
    "thing = ['Apus','Auriga','Camelopardalis','Cassiopeia','Chamaeleon','Circinus','Crux','Dorado','Indus','Musca','Reticulum','Triangulum Australe','Tucana','Ursa MinorUrsa Major']\n",
    "print(result)\n",
    "e = np.argmax(result,axis=1)\n",
    "e=int(e)\n",
    "# print(cnn.predict_generator(test_image))\n",
    "print(thing[e])\n",
    "#Circinus, Apus"
   ]
  },
  {
   "cell_type": "code",
   "execution_count": 43,
   "metadata": {},
   "outputs": [
    {
     "name": "stdout",
     "output_type": "stream",
     "text": [
      "[[0. 0. 0. 0. 0. 0. 0. 0. 0. 0. 0. 0. 1. 0.]]\n",
      "Tucana\n"
     ]
    }
   ],
   "source": [
    "import numpy as np\n",
    "from keras.preprocessing import image\n",
    "test_image = image.load_img('/floyd/input/cnndata/Tucana.png', target_size = (280, 280))\n",
    "test_image = image.img_to_array(test_image)\n",
    "test_image = np.expand_dims(test_image, axis = 0)\n",
    "result = cnn.predict(test_image)\n",
    "training_set.class_indices\n",
    "thing = ['Apus','Auriga','Camelopardalis','Cassiopeia','Chamaeleon','Circinus','Crux','Dorado','Indus','Musca','Reticulum','Triangulum Australe','Tucana','Ursa MinorUrsa Major']\n",
    "print(result)\n",
    "e = np.argmax(result,axis=1)\n",
    "e=int(e)\n",
    "# print(cnn.predict_generator(test_image))\n",
    "print(thing[e])\n",
    "#Circinus, Apus"
   ]
  },
  {
   "cell_type": "code",
   "execution_count": 44,
   "metadata": {},
   "outputs": [
    {
     "name": "stdout",
     "output_type": "stream",
     "text": [
      "[[0. 0. 0. 0. 0. 0. 0. 0. 0. 0. 0. 0. 0. 1.]]\n",
      "Ursa MinorUrsa Major\n"
     ]
    }
   ],
   "source": [
    "import numpy as np\n",
    "from keras.preprocessing import image\n",
    "test_image = image.load_img('/floyd/input/cnndata/Ursa MinorUrsa Major.png', target_size = (280, 280))\n",
    "test_image = image.img_to_array(test_image)\n",
    "test_image = np.expand_dims(test_image, axis = 0)\n",
    "result = cnn.predict(test_image)\n",
    "training_set.class_indices\n",
    "thing = ['Apus','Auriga','Camelopardalis','Cassiopeia','Chamaeleon','Circinus','Crux','Dorado','Indus','Musca','Reticulum','Triangulum Australe','Tucana','Ursa MinorUrsa Major']\n",
    "print(result)\n",
    "e = np.argmax(result,axis=1)\n",
    "e=int(e)\n",
    "# print(cnn.predict_generator(test_image))\n",
    "print(thing[e])\n",
    "#Circinus, Apus"
   ]
  },
  {
   "cell_type": "code",
   "execution_count": 45,
   "metadata": {},
   "outputs": [
    {
     "name": "stdout",
     "output_type": "stream",
     "text": [
      "[[0. 0. 1. 0. 0. 0. 0. 0. 0. 0. 0. 0. 0. 0.]]\n",
      "Camelopardalis\n"
     ]
    }
   ],
   "source": [
    "import numpy as np\n",
    "from keras.preprocessing import image\n",
    "test_image = image.load_img('/floyd/input/cnndata/Ursa MinorUrsa Major2.png', target_size = (280, 280))\n",
    "test_image = image.img_to_array(test_image)\n",
    "test_image = np.expand_dims(test_image, axis = 0)\n",
    "result = cnn.predict(test_image)\n",
    "training_set.class_indices\n",
    "thing = ['Apus','Auriga','Camelopardalis','Cassiopeia','Chamaeleon','Circinus','Crux','Dorado','Indus','Musca','Reticulum','Triangulum Australe','Tucana','Ursa MinorUrsa Major']\n",
    "print(result)\n",
    "e = np.argmax(result,axis=1)\n",
    "e=int(e)\n",
    "# print(cnn.predict_generator(test_image))\n",
    "print(thing[e])\n",
    "#Circinus, Apus"
   ]
  },
  {
   "cell_type": "code",
   "execution_count": 9,
   "metadata": {},
   "outputs": [
    {
     "name": "stdout",
     "output_type": "stream",
     "text": [
      "Loaded Model from disk\n",
      "[[0. 0. 0. 0. 0. 0. 0. 0. 0. 0. 1. 0. 0. 0.]]\n",
      "Reticulum\n"
     ]
    }
   ],
   "source": [
    "import numpy as np\n",
    "import keras.models\n",
    "from keras.models import model_from_json\n",
    "from keras.preprocessing import image\n",
    "\n",
    "json_file = open('cnnfinal.json','r')\n",
    "loaded_model_json = json_file.read()\n",
    "json_file.close()\n",
    "loaded_model = model_from_json(loaded_model_json)\n",
    "#load woeights into new model\n",
    "loaded_model.load_weights(\"cnnfinal.h5\")\n",
    "print(\"Loaded Model from disk\")\n",
    "\n",
    "test_image = image.load_img('Apus .png', target_size = (280, 280))\n",
    "test_image = image.img_to_array(test_image)\n",
    "test_image = np.expand_dims(test_image, axis = 0)\n",
    "out = loaded_model.predict(test_image)\n",
    "print(out)\n",
    "e = np.argmax(out,axis=1)\n",
    "e=int(e)\n",
    "print(thing[e])\n",
    "thing = ['Apus','Auriga','Camelopardalis','Cassiopeia','Chamaeleon','Circinus','Crux','Dorado','Indus','Musca','Reticulum','Triangulum Australe','Tucana','Ursa MinorUrsa Major']\n"
   ]
  },
  {
   "cell_type": "code",
   "execution_count": null,
   "metadata": {},
   "outputs": [],
   "source": []
  }
 ],
 "metadata": {
  "colab": {
   "collapsed_sections": [],
   "name": "convolutional_neural_network.ipynb",
   "provenance": [],
   "toc_visible": true
  },
  "kernelspec": {
   "display_name": "Python 3",
   "language": "python",
   "name": "python3"
  },
  "language_info": {
   "codemirror_mode": {
    "name": "ipython",
    "version": 3
   },
   "file_extension": ".py",
   "mimetype": "text/x-python",
   "name": "python",
   "nbconvert_exporter": "python",
   "pygments_lexer": "ipython3",
   "version": "3.7.6"
  }
 },
 "nbformat": 4,
 "nbformat_minor": 4
}

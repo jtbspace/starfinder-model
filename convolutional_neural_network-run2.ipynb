{
 "cells": [
  {
   "cell_type": "markdown",
   "metadata": {
    "colab_type": "text",
    "id": "3DR-eO17geWu"
   },
   "source": [
    "# Convolutional Neural Network"
   ]
  },
  {
   "cell_type": "markdown",
   "metadata": {
    "colab_type": "text",
    "id": "EMefrVPCg-60"
   },
   "source": [
    "### Importing the libraries"
   ]
  },
  {
   "cell_type": "code",
   "execution_count": null,
   "metadata": {},
   "outputs": [],
   "source": [
    "# Set a seed value\n",
    "seed_value= 123\n",
    "# 1. Set `PYTHONHASHSEED` environment variable at a fixed value\n",
    "import os\n",
    "os.environ['PYTHONHASHSEED']=str(seed_value)\n",
    "# 2. Set `python` built-in pseudo-random generator at a fixed value\n",
    "import random\n",
    "random.seed(seed_value)\n",
    "# 3. Set `numpy` pseudo-random generator at a fixed value\n",
    "import numpy as np\n",
    "np.random.seed(seed_value)\n",
    "# 4. Set `tensorflow` pseudo-random generator at a fixed value\n",
    "import tensorflow as tf\n",
    "tf.set_random_seed(seed_value)\n",
    "# 5. For layers that introduce randomness like dropout, make sure to set seed values \n",
    "#6 Configure a new global `tensorflow` session\n",
    "from keras import backend as K\n",
    "session_conf = tf.ConfigProto(intra_op_parallelism_threads=1, inter_op_parallelism_threads=1)\n",
    "sess = tf.Session(graph=tf.get_default_graph(), config=session_conf)\n",
    "K.set_session(sess)"
   ]
  },
  {
   "cell_type": "code",
   "execution_count": 25,
   "metadata": {
    "colab": {},
    "colab_type": "code",
    "id": "sCV30xyVhFbE"
   },
   "outputs": [],
   "source": [
    "from __future__ import print_function\n",
    "from keras.preprocessing.image import ImageDataGenerator\n",
    "from sklearn.preprocessing import LabelEncoder\n",
    "import matplotlib.pyplot as plt\n",
    "#simplified interface for building models \n",
    "import keras\n",
    "#our handwritten character labeled dataset\n",
    "#because our models are simple\n",
    "from keras.models import Sequential\n",
    "#dense means fully connected layers, dropout is a technique to improve convergence, flatten to reshape our matrices for feeding\n",
    "#into respective layers\n",
    "# from keras.layers import Dense, Dropout, Flatten\n",
    "#for convolution (images) and pooling is a technique to help choose the most relevant features in an image\n",
    "# from keras.layers import Conv2D, MaxPooling2\n",
    "# from keras import layers\n",
    "# from keras.models import Model"
   ]
  },
  {
   "cell_type": "code",
   "execution_count": 26,
   "metadata": {
    "colab": {},
    "colab_type": "code",
    "id": "FIleuCAjoFD8"
   },
   "outputs": [],
   "source": [
    "#14 difference characters\n",
    "num_classes = 14\n",
    "\n"
   ]
  },
  {
   "cell_type": "markdown",
   "metadata": {
    "colab_type": "text",
    "id": "oxQxCBWyoGPE"
   },
   "source": [
    "## Part 1 - Data Preprocessing"
   ]
  },
  {
   "cell_type": "markdown",
   "metadata": {
    "colab_type": "text",
    "id": "MvE-heJNo3GG"
   },
   "source": [
    "### Preprocessing the Training set"
   ]
  },
  {
   "cell_type": "code",
   "execution_count": 27,
   "metadata": {
    "colab": {},
    "colab_type": "code",
    "id": "0koUcJMJpEBD"
   },
   "outputs": [
    {
     "name": "stdout",
     "output_type": "stream",
     "text": [
      "Found 7560 images belonging to 14 classes.\n"
     ]
    }
   ],
   "source": [
    "train_datagen = ImageDataGenerator(rescale = 1./255,\n",
    "                                   shear_range = 0.2,\n",
    "                                   zoom_range = 0.2,\n",
    "                                   horizontal_flip = True)\n",
    "training_set = train_datagen.flow_from_directory('Dataset/Train',\n",
    "                                                 target_size = (280, 280),\n",
    "                                                 batch_size = 32,\n",
    "                                                 class_mode='categorical')"
   ]
  },
  {
   "cell_type": "markdown",
   "metadata": {
    "colab_type": "text",
    "id": "mrCMmGw9pHys"
   },
   "source": [
    "### Preprocessing the Test set"
   ]
  },
  {
   "cell_type": "code",
   "execution_count": 28,
   "metadata": {
    "colab": {},
    "colab_type": "code",
    "id": "SH4WzfOhpKc3"
   },
   "outputs": [
    {
     "name": "stdout",
     "output_type": "stream",
     "text": [
      "Found 2548 images belonging to 14 classes.\n"
     ]
    }
   ],
   "source": [
    "test_datagen = ImageDataGenerator(rescale = 1./255)\n",
    "test_set = test_datagen.flow_from_directory('dataset/Test',\n",
    "                                            target_size = (280, 280),\n",
    "                                            batch_size = 32,\n",
    "                                            class_mode='categorical')"
   ]
  },
  {
   "cell_type": "code",
   "execution_count": 29,
   "metadata": {},
   "outputs": [],
   "source": [
    "cnn = Sequential([\n",
    "    keras.layers.Conv2D(filters=96, kernel_size=(11,11), strides=(4,4), activation='relu', input_shape=(280,280,3)),\n",
    "    keras.layers.BatchNormalization(),\n",
    "    keras.layers.MaxPool2D(pool_size=(3,3), strides=(2,2)),\n",
    "    keras.layers.Conv2D(filters=256, kernel_size=(5,5), strides=(1,1), activation='relu', padding=\"same\"),\n",
    "    keras.layers.BatchNormalization(),\n",
    "    keras.layers.MaxPool2D(pool_size=(3,3), strides=(2,2)),\n",
    "    keras.layers.Conv2D(filters=384, kernel_size=(3,3), strides=(1,1), activation='relu', padding=\"same\"),\n",
    "    keras.layers.BatchNormalization(),\n",
    "    keras.layers.Conv2D(filters=384, kernel_size=(1,1), strides=(1,1), activation='relu', padding=\"same\"),\n",
    "    keras.layers.BatchNormalization(),\n",
    "    keras.layers.Conv2D(filters=256, kernel_size=(1,1), strides=(1,1), activation='relu', padding=\"same\"),\n",
    "    keras.layers.BatchNormalization(),\n",
    "    keras.layers.MaxPool2D(pool_size=(3,3), strides=(2,2)),\n",
    "    keras.layers.Flatten(),\n",
    "    keras.layers.Dense(4096, activation='relu'),\n",
    "    keras.layers.Dropout(0.5,seed=seed_value),\n",
    "    keras.layers.Dense(4096, activation='relu'),\n",
    "    keras.layers.Dropout(0.5,seed=seed_value),\n",
    "    keras.layers.Dense(14, activation='softmax')\n",
    "])"
   ]
  },
  {
   "cell_type": "markdown",
   "metadata": {
    "colab_type": "text",
    "id": "af8O4l90gk7B"
   },
   "source": [
    "## Part 2 - Building the CNN"
   ]
  },
  {
   "cell_type": "markdown",
   "metadata": {
    "colab_type": "text",
    "id": "ces1gXY2lmoX"
   },
   "source": [
    "### Building the CNN"
   ]
  },
  {
   "cell_type": "code",
   "execution_count": 204,
   "metadata": {
    "colab": {},
    "colab_type": "code",
    "id": "SAUt4UMPlhLS"
   },
   "outputs": [],
   "source": [
    "# cnn = Sequential()\n",
    "# cnn.add(Conv2D(32, kernel_size=3,\n",
    "#                  activation='relu',\n",
    "#                  input_shape=[280,280,3]))\n",
    "# cnn.add(MaxPooling2D(pool_size= 2, strides=2))\n",
    "# cnn.add(Conv2D(filters= 280, kernel_size = 3,activation= 'relu'))\n",
    "# cnn.add(MaxPooling2D(pool_size= 2, strides=2))\n",
    "# cnn.add(Conv2D(filters= 280, kernel_size = 3,activation= 'relu'))\n",
    "# cnn.add(MaxPooling2D(pool_size= 2, strides=2))\n",
    "# cnn.add(Dropout(0.5))\n",
    "# cnn.add(Conv2D(filters= 280, kernel_size = 3,activation= 'relu'))\n",
    "# cnn.add(MaxPooling2D(pool_size= 2, strides=2))\n",
    "# cnn.add(Conv2D(filters= 280, kernel_size = 3,activation= 'relu'))\n",
    "# cnn.add(MaxPooling2D(pool_size= 2, strides=2))\n",
    "# cnn.add(Dropout(0.5))\n",
    "# cnn.add(Flatten())\n",
    "# cnn.add(Dense(units=64, activation= 'relu'))\n",
    "# #output a softmax to squash the matrix into output probabilities\n",
    "# cnn.add(Dense(num_classes, activation='softmax'))\n"
   ]
  },
  {
   "cell_type": "markdown",
   "metadata": {
    "colab_type": "text",
    "id": "D6XkI90snSDl"
   },
   "source": [
    "## Part 3 - Training the CNN"
   ]
  },
  {
   "cell_type": "markdown",
   "metadata": {
    "colab_type": "text",
    "id": "vfrFQACEnc6i"
   },
   "source": [
    "### Compiling the CNN"
   ]
  },
  {
   "cell_type": "code",
   "execution_count": 30,
   "metadata": {
    "colab": {},
    "colab_type": "code",
    "id": "NALksrNQpUlJ"
   },
   "outputs": [],
   "source": [
    "# cnn.compile(loss='kullback_leibler_divergence',\n",
    "#               optimizer = 'nadam',\n",
    "#               metrics=['accuracy'])\n",
    "cnn.compile(loss='kullback_leibler_divergence', optimizer=tf.optimizers.SGD(lr=0.001), metrics=['accuracy'])"
   ]
  },
  {
   "cell_type": "code",
   "execution_count": 31,
   "metadata": {},
   "outputs": [
    {
     "name": "stdout",
     "output_type": "stream",
     "text": [
      "Model: \"sequential_2\"\n",
      "_________________________________________________________________\n",
      "Layer (type)                 Output Shape              Param #   \n",
      "=================================================================\n",
      "conv2d_10 (Conv2D)           (None, 68, 68, 96)        34944     \n",
      "_________________________________________________________________\n",
      "batch_normalization_10 (Batc (None, 68, 68, 96)        384       \n",
      "_________________________________________________________________\n",
      "max_pooling2d_6 (MaxPooling2 (None, 33, 33, 96)        0         \n",
      "_________________________________________________________________\n",
      "conv2d_11 (Conv2D)           (None, 33, 33, 256)       614656    \n",
      "_________________________________________________________________\n",
      "batch_normalization_11 (Batc (None, 33, 33, 256)       1024      \n",
      "_________________________________________________________________\n",
      "max_pooling2d_7 (MaxPooling2 (None, 16, 16, 256)       0         \n",
      "_________________________________________________________________\n",
      "conv2d_12 (Conv2D)           (None, 16, 16, 384)       885120    \n",
      "_________________________________________________________________\n",
      "batch_normalization_12 (Batc (None, 16, 16, 384)       1536      \n",
      "_________________________________________________________________\n",
      "conv2d_13 (Conv2D)           (None, 16, 16, 384)       147840    \n",
      "_________________________________________________________________\n",
      "batch_normalization_13 (Batc (None, 16, 16, 384)       1536      \n",
      "_________________________________________________________________\n",
      "conv2d_14 (Conv2D)           (None, 16, 16, 256)       98560     \n",
      "_________________________________________________________________\n",
      "batch_normalization_14 (Batc (None, 16, 16, 256)       1024      \n",
      "_________________________________________________________________\n",
      "max_pooling2d_8 (MaxPooling2 (None, 7, 7, 256)         0         \n",
      "_________________________________________________________________\n",
      "flatten_2 (Flatten)          (None, 12544)             0         \n",
      "_________________________________________________________________\n",
      "dense_6 (Dense)              (None, 4096)              51384320  \n",
      "_________________________________________________________________\n",
      "dropout_4 (Dropout)          (None, 4096)              0         \n",
      "_________________________________________________________________\n",
      "dense_7 (Dense)              (None, 4096)              16781312  \n",
      "_________________________________________________________________\n",
      "dropout_5 (Dropout)          (None, 4096)              0         \n",
      "_________________________________________________________________\n",
      "dense_8 (Dense)              (None, 14)                57358     \n",
      "=================================================================\n",
      "Total params: 70,009,614\n",
      "Trainable params: 70,006,862\n",
      "Non-trainable params: 2,752\n",
      "_________________________________________________________________\n"
     ]
    }
   ],
   "source": [
    "cnn.summary()"
   ]
  },
  {
   "cell_type": "markdown",
   "metadata": {
    "colab_type": "text",
    "id": "ehS-v3MIpX2h"
   },
   "source": [
    "### Training the CNN on the Training set and evaluating it on the Test set"
   ]
  },
  {
   "cell_type": "code",
   "execution_count": 32,
   "metadata": {
    "colab": {},
    "colab_type": "code",
    "id": "XUj1W4PJptta"
   },
   "outputs": [
    {
     "name": "stdout",
     "output_type": "stream",
     "text": [
      "Epoch 1/12\n",
      "237/237 [==============================] - 1569s 7s/step - loss: 2.9842 - accuracy: 0.2516 - val_loss: 2.7982 - val_accuracy: 0.0958\n",
      "Epoch 2/12\n",
      "237/237 [==============================] - 1495s 6s/step - loss: 1.4409 - accuracy: 0.5172 - val_loss: 2.4776 - val_accuracy: 0.1311\n",
      "Epoch 3/12\n",
      "237/237 [==============================] - 1487s 6s/step - loss: 0.9544 - accuracy: 0.6771 - val_loss: 1.5562 - val_accuracy: 0.5145\n",
      "Epoch 4/12\n",
      "237/237 [==============================] - 1505s 6s/step - loss: 0.6752 - accuracy: 0.7746 - val_loss: 1.4076 - val_accuracy: 0.5640\n",
      "Epoch 5/12\n",
      "237/237 [==============================] - 1601s 7s/step - loss: 0.5005 - accuracy: 0.8378 - val_loss: 1.4272 - val_accuracy: 0.5726\n",
      "Epoch 6/12\n",
      "237/237 [==============================] - 1566s 7s/step - loss: 0.4020 - accuracy: 0.8694 - val_loss: 1.2755 - val_accuracy: 0.6193\n",
      "Epoch 7/12\n",
      "237/237 [==============================] - 1580s 7s/step - loss: 0.3283 - accuracy: 0.8942 - val_loss: 1.2423 - val_accuracy: 0.6213\n",
      "Epoch 8/12\n",
      "237/237 [==============================] - 1523s 6s/step - loss: 0.2867 - accuracy: 0.9048 - val_loss: 1.2419 - val_accuracy: 0.6279\n",
      "Epoch 9/12\n",
      "237/237 [==============================] - 1515s 6s/step - loss: 0.2354 - accuracy: 0.9242 - val_loss: 1.1191 - val_accuracy: 0.6652\n",
      "Epoch 10/12\n",
      "237/237 [==============================] - 1500s 6s/step - loss: 0.2256 - accuracy: 0.9259 - val_loss: 1.0832 - val_accuracy: 0.6680\n",
      "Epoch 11/12\n",
      "237/237 [==============================] - 1494s 6s/step - loss: 0.1963 - accuracy: 0.9327 - val_loss: 1.0739 - val_accuracy: 0.6735\n",
      "Epoch 12/12\n",
      "237/237 [==============================] - 1507s 6s/step - loss: 0.1865 - accuracy: 0.9365 - val_loss: 1.1490 - val_accuracy: 0.6601\n"
     ]
    }
   ],
   "source": [
    "h = cnn.fit(x = training_set, validation_data = test_set, epochs = 50)"
   ]
  },
  {
   "cell_type": "code",
   "execution_count": 34,
   "metadata": {},
   "outputs": [
    {
     "data": {
      "text/plain": [
       "dict_keys(['loss', 'accuracy', 'val_loss', 'val_accuracy'])"
      ]
     },
     "execution_count": 34,
     "metadata": {},
     "output_type": "execute_result"
    }
   ],
   "source": [
    "h.history.keys()\n"
   ]
  },
  {
   "cell_type": "code",
   "execution_count": 35,
   "metadata": {},
   "outputs": [],
   "source": [
    "accuracy = h.history['accuracy']\n",
    "loss = h.history['loss']\n",
    "val_accuracy = h.history['val_accuracy']\n",
    "val_loss = h.history['val_loss']"
   ]
  },
  {
   "cell_type": "code",
   "execution_count": 36,
   "metadata": {},
   "outputs": [
    {
     "data": {
      "text/plain": [
       "<matplotlib.legend.Legend at 0x211be8ddc08>"
      ]
     },
     "execution_count": 36,
     "metadata": {},
     "output_type": "execute_result"
    },
    {
     "data": {
      "image/png": "[encoded data removed]",
      "text/plain": [
       "<Figure size 432x288 with 1 Axes>"
      ]
     },
     "metadata": {
      "needs_background": "light"
     },
     "output_type": "display_data"
    }
   ],
   "source": [
    "epochs = range(len(accuracy))\n",
    "\n",
    "plt.plot(epochs, accuracy, 'b', label='Training Accuracy')\n",
    "plt.plot(epochs, loss, 'r', label='Training loss')\n",
    "plt.plot(epochs, val_accuracy, 'g', label='Validation Accuracy')\n",
    "plt.plot(epochs, val_loss, 'y', label='Validation loss')\n",
    "plt.title('Training Accuracy and Loss w/ Validation Accuracy and Loss')\n",
    "plt.legend()\n",
    "# second run with 540/182 dataset split 237 steps 25 epochs loss: kullback_leibler_divergence optimizer: nadam"
   ]
  },
  {
   "cell_type": "markdown",
   "metadata": {
    "colab_type": "text",
    "id": "U3PZasO0006Z"
   },
   "source": [
    "### Part 4 - Making a single prediction"
   ]
  },
  {
   "cell_type": "code",
   "execution_count": 174,
   "metadata": {
    "colab": {},
    "colab_type": "code",
    "id": "gsSiWEJY1BPB"
   },
   "outputs": [
    {
     "name": "stdout",
     "output_type": "stream",
     "text": [
      "[[0. 0. 0. 0. 0. 0. 0. 1. 0. 0. 0. 0. 0. 0.]]\n",
      "[[0. 0. 0. 0. 0. 0. 0. 1. 0. 0. 0. 0. 0. 0.]]\n",
      "Dorado\n"
     ]
    }
   ],
   "source": [
    "import numpy as np\n",
    "from keras.preprocessing import image\n",
    "test_image = image.load_img('C:\\\\Users\\\\User\\\\Desktop\\\\Python\\\\Dataset\\\\Triangulum Australe.png', target_size = (280, 280))\n",
    "test_image = image.img_to_array(test_image)\n",
    "test_image = np.expand_dims(test_image, axis = 0)\n",
    "result = cnn.predict(test_image)\n",
    "training_set.class_indices\n",
    "thing = ['Apus','Auriga','Camelopardalis','Cassiopeia','Chamaeleon','Circinus','Crux','Dorado','Indus','Musca','Reticulum','Triangulum Australe','Tucana','Ursa MinorUrsa Major']\n",
    "print(result)\n",
    "e = np.argmax(result,axis=1)\n",
    "e=int(e)\n",
    "print(cnn.predict_generator(test_image))\n",
    "print(thing[e])\n",
    "#Circinus, Apus\n"
   ]
  },
  {
   "cell_type": "code",
   "execution_count": 17,
   "metadata": {},
   "outputs": [
    {
     "name": "stdout",
     "output_type": "stream",
     "text": [
      "[[0. 0. 0. 1.]]\n",
      "[[0. 0. 0. 1.]]\n",
      "pegasus\n"
     ]
    }
   ],
   "source": [
    "import numpy as np\n",
    "from keras.preprocessing import image\n",
    "test_image = image.load_img('orion.jpg', target_size = (128, 128))\n",
    "test_image = image.img_to_array(test_image)\n",
    "test_image = np.expand_dims(test_image, axis = 0)\n",
    "result = cnn.predict(test_image)\n",
    "training_set.class_indices\n",
    "thing = ['cygnus','hercules','orion','pegasus']\n",
    "print(result)\n",
    "e = np.argmax(result,axis=1)\n",
    "e=int(e)\n",
    "print(cnn.predict_generator(test_image))\n",
    "print(thing[e])"
   ]
  },
  {
   "cell_type": "code",
   "execution_count": 18,
   "metadata": {},
   "outputs": [
    {
     "name": "stdout",
     "output_type": "stream",
     "text": [
      "[[1. 0. 0. 0.]]\n",
      "[[1. 0. 0. 0.]]\n",
      "cygnus\n"
     ]
    }
   ],
   "source": [
    "import numpy as np\n",
    "from keras.preprocessing import image\n",
    "test_image = image.load_img('hercules.jpg', target_size = (128, 128))\n",
    "test_image = image.img_to_array(test_image)\n",
    "test_image = np.expand_dims(test_image, axis = 0)\n",
    "result = cnn.predict(test_image)\n",
    "training_set.class_indices\n",
    "thing = ['cygnus','hercules','orion','pegasus']\n",
    "print(result)\n",
    "e = np.argmax(result,axis=1)\n",
    "e=int(e)\n",
    "print(cnn.predict_generator(test_image))\n",
    "print(thing[e])"
   ]
  },
  {
   "cell_type": "code",
   "execution_count": 19,
   "metadata": {},
   "outputs": [
    {
     "name": "stdout",
     "output_type": "stream",
     "text": [
      "[[0. 0. 0. 1.]]\n",
      "[[0. 0. 0. 1.]]\n",
      "pegasus\n"
     ]
    }
   ],
   "source": [
    "import numpy as np\n",
    "from keras.preprocessing import image\n",
    "test_image = image.load_img('CYGnus.jpg', target_size = (128, 128))\n",
    "test_image = image.img_to_array(test_image)\n",
    "test_image = np.expand_dims(test_image, axis = 0)\n",
    "result = cnn.predict(test_image)\n",
    "training_set.class_indices\n",
    "thing = ['sygnus','hercules','orion','pegasus']\n",
    "print(result)\n",
    "e = np.argmax(result,axis=1)\n",
    "e=int(e)\n",
    "print(cnn.predict_generator(test_image))\n",
    "print(thing[e])"
   ]
  },
  {
   "cell_type": "code",
   "execution_count": 20,
   "metadata": {},
   "outputs": [],
   "source": [
    "# import numpy as np\n",
    "# from keras.preprocessing import image\n",
    "\n",
    "# test_image_luna=image.load_img('sygnus.png',target_size=(64, 64))\n",
    "# test_image2=image.img_to_array(test_image_luna)\n",
    "# test_image2=np.expand_dims(test_image2,axis=0)\n",
    "# luna=cnn.predict(test_image2)\n",
    "\n",
    "# print(luna)"
   ]
  },
  {
   "cell_type": "code",
   "execution_count": 21,
   "metadata": {},
   "outputs": [],
   "source": [
    "# from keras.models import Sequential\n",
    "# from keras.layers import Dense, Activation\n",
    "\n",
    "# model = Sequential([\n",
    "#     Dense(10, activation = \"relu\"),\n",
    "#     Dense(2, activation = \"softmax\")])\n",
    "# model.compile(\n",
    "#     optimizer = \"rmsprop\",\n",
    "#     loss = \"sparse_categorical_crossentropy\")\n",
    "\n",
    "# print(model.predict([[1, 2], [1, 3], [1, 1]]))"
   ]
  },
  {
   "cell_type": "code",
   "execution_count": 22,
   "metadata": {
    "colab": {},
    "colab_type": "code",
    "id": "ED9KB3I54c1i"
   },
   "outputs": [],
   "source": [
    "# model_json = cnn.to_json()\n",
    "# with open(\"model.json\", \"w\") as json_file:\n",
    "#     json_file.write(model_json)\n",
    "# # serialize weights to HDF5\n",
    "# cnn.save_weights(\"model.h5\")\n",
    "# print(\"Saved model to disk\")"
   ]
  },
  {
   "cell_type": "code",
   "execution_count": null,
   "metadata": {},
   "outputs": [],
   "source": []
  },
  {
   "cell_type": "code",
   "execution_count": null,
   "metadata": {},
   "outputs": [],
   "source": []
  }
 ],
 "metadata": {
  "colab": {
   "collapsed_sections": [],
   "name": "convolutional_neural_network.ipynb",
   "provenance": [],
   "toc_visible": true
  },
  "kernelspec": {
   "display_name": "Python 3",
   "language": "python",
   "name": "python3"
  },
  "language_info": {
   "codemirror_mode": {
    "name": "ipython",
    "version": 3
   },
   "file_extension": ".py",
   "mimetype": "text/x-python",
   "name": "python",
   "nbconvert_exporter": "python",
   "pygments_lexer": "ipython3",
   "version": "3.7.6"
  }
 },
 "nbformat": 4,
 "nbformat_minor": 1
}
